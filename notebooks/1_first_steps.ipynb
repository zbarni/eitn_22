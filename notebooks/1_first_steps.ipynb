{
 "cells": [
  {
   "cell_type": "markdown",
   "metadata": {
    "slideshow": {
     "slide_type": "slide"
    }
   },
   "source": [
    "# PyNEST - First Steps"
   ]
  },
  {
   "cell_type": "markdown",
   "metadata": {
    "slideshow": {
     "slide_type": "-"
    }
   },
   "source": [
    "**Modeling networks of spiking neurons using NEST**\n",
    "\n",
    "**EITN Fall School 2022, 24.09.2022**\n",
    "\n",
    "**[Barna Zajzon](mailto:b.zajzon@fz-juelich.de)**"
   ]
  },
  {
   "cell_type": "markdown",
   "metadata": {
    "slideshow": {
     "slide_type": "subslide"
    }
   },
   "source": [
    "This notebook guides through your first steps using NEST. It shows\n",
    "* how to get help\n",
    "* how to create and simulate a single neuron\n",
    "* how to visualize the output\n",
    "\n",
    "Essentially, this is a reproduction of the 'Hello World!' notebook with added explanations. \n",
    "\n",
    "For more details see [part 1 of the official PyNEST tutorial](https://nest-simulator.readthedocs.io/en/latest/tutorials/pynest_tutorial/part_1_neurons_and_simple_neural_networks.html)."
   ]
  },
  {
   "cell_type": "code",
   "execution_count": 1,
   "metadata": {
    "slideshow": {
     "slide_type": "-"
    }
   },
   "outputs": [
    {
     "name": "stdout",
     "output_type": "stream",
     "text": [
      "\n",
      "              -- N E S T --\n",
      "  Copyright (C) 2004 The NEST Initiative\n",
      "\n",
      " Version: master@5e8790c31\n",
      " Built: Sep 14 2022 17:54:12\n",
      "\n",
      " This program is provided AS IS and comes with\n",
      " NO WARRANTY. See the file LICENSE for details.\n",
      "\n",
      " Problems or suggestions?\n",
      "   Visit https://www.nest-simulator.org\n",
      "\n",
      " Type 'nest.help()' to find out more about NEST.\n",
      "\n"
     ]
    }
   ],
   "source": [
    "import nest # import NEST module\n",
    "from matplotlib import pyplot as plt\n",
    "import numpy as np"
   ]
  },
  {
   "cell_type": "markdown",
   "metadata": {
    "slideshow": {
     "slide_type": "slide"
    }
   },
   "source": [
    "## Getting help"
   ]
  },
  {
   "cell_type": "code",
   "execution_count": 2,
   "metadata": {
    "slideshow": {
     "slide_type": "subslide"
    }
   },
   "outputs": [
    {
     "name": "stdout",
     "output_type": "stream",
     "text": [
      "Help on function Models in module nest.lib.hl_api_models:\n",
      "\n",
      "Models(mtype='all', sel=None)\n",
      "    Return a tuple of model names, sorted by name.\n",
      "    \n",
      "    All available models are neurons, devices and synapses.\n",
      "    \n",
      "    Parameters\n",
      "    ----------\n",
      "    mtype : str, optional\n",
      "        Use ``'mtype='nodes'`` to only see neuron and device models,\n",
      "        or ``'type='synapses'`` to only see synapse models.\n",
      "    sel : str, optional\n",
      "        String used to filter the result list and only return models\n",
      "        containing it.\n",
      "    \n",
      "    Returns\n",
      "    -------\n",
      "    tuple\n",
      "        Available model names\n",
      "    \n",
      "    Raises\n",
      "    ------\n",
      "    ValueError\n",
      "        Description\n",
      "    \n",
      "    Notes\n",
      "    -----\n",
      "    - Synapse model names ending with ``'_hpc'`` provide minimal memory\n",
      "      requirements by using thread-local target neuron IDs and fixing\n",
      "      the ``'rport'`` to 0.\n",
      "    - Synapse model names ending with ``'_lbl'`` allow to assign an individual\n",
      "      integer label (``'synapse_label'``) to created synapses at the cost\n",
      "      of increased memory requirements.\n",
      "\n"
     ]
    }
   ],
   "source": [
    "# information about functions with Python's help() ...\n",
    "help(nest.Models)"
   ]
  },
  {
   "cell_type": "code",
   "execution_count": 3,
   "metadata": {
    "slideshow": {
     "slide_type": "subslide"
    }
   },
   "outputs": [
    {
     "data": {
      "text/plain": [
       "('ac_generator',\n",
       " 'aeif_cond_alpha',\n",
       " 'aeif_cond_alpha_multisynapse',\n",
       " 'aeif_cond_beta_multisynapse',\n",
       " 'aeif_cond_exp',\n",
       " 'aeif_psc_alpha',\n",
       " 'aeif_psc_delta',\n",
       " 'aeif_psc_delta_clopath',\n",
       " 'aeif_psc_exp',\n",
       " 'amat2_psc_exp',\n",
       " 'bernoulli_synapse',\n",
       " 'bernoulli_synapse_hpc',\n",
       " 'bernoulli_synapse_lbl',\n",
       " 'clopath_synapse',\n",
       " 'clopath_synapse_hpc',\n",
       " 'clopath_synapse_lbl',\n",
       " 'cont_delay_synapse',\n",
       " 'cont_delay_synapse_hpc',\n",
       " 'cont_delay_synapse_lbl',\n",
       " 'correlation_detector',\n",
       " 'correlomatrix_detector',\n",
       " 'correlospinmatrix_detector',\n",
       " 'dc_generator',\n",
       " 'diffusion_connection',\n",
       " 'diffusion_connection_lbl',\n",
       " 'erfc_neuron',\n",
       " 'gamma_sup_generator',\n",
       " 'gap_junction',\n",
       " 'gap_junction_lbl',\n",
       " 'gauss_rate_ipn',\n",
       " 'gif_cond_exp',\n",
       " 'gif_cond_exp_multisynapse',\n",
       " 'gif_pop_psc_exp',\n",
       " 'gif_psc_exp',\n",
       " 'gif_psc_exp_multisynapse',\n",
       " 'ginzburg_neuron',\n",
       " 'glif_cond',\n",
       " 'glif_psc',\n",
       " 'hh_cond_beta_gap_traub',\n",
       " 'hh_cond_exp_traub',\n",
       " 'hh_psc_alpha',\n",
       " 'hh_psc_alpha_clopath',\n",
       " 'hh_psc_alpha_gap',\n",
       " 'ht_neuron',\n",
       " 'ht_synapse',\n",
       " 'ht_synapse_hpc',\n",
       " 'ht_synapse_lbl',\n",
       " 'iaf_chs_2007',\n",
       " 'iaf_chxk_2008',\n",
       " 'iaf_cond_alpha',\n",
       " 'iaf_cond_alpha_mc',\n",
       " 'iaf_cond_beta',\n",
       " 'iaf_cond_exp',\n",
       " 'iaf_cond_exp_sfa_rr',\n",
       " 'iaf_psc_alpha',\n",
       " 'iaf_psc_alpha_canon',\n",
       " 'iaf_psc_alpha_multisynapse',\n",
       " 'iaf_psc_alpha_ps',\n",
       " 'iaf_psc_delta',\n",
       " 'iaf_psc_delta_ps',\n",
       " 'iaf_psc_exp',\n",
       " 'iaf_psc_exp_htum',\n",
       " 'iaf_psc_exp_multisynapse',\n",
       " 'iaf_psc_exp_ps',\n",
       " 'iaf_psc_exp_ps_lossless',\n",
       " 'inhomogeneous_poisson_generator',\n",
       " 'izhikevich',\n",
       " 'jonke_synapse',\n",
       " 'jonke_synapse_hpc',\n",
       " 'jonke_synapse_lbl',\n",
       " 'lin_rate_ipn',\n",
       " 'lin_rate_opn',\n",
       " 'mat2_psc_exp',\n",
       " 'mcculloch_pitts_neuron',\n",
       " 'mip_generator',\n",
       " 'multimeter',\n",
       " 'noise_generator',\n",
       " 'parrot_neuron',\n",
       " 'parrot_neuron_ps',\n",
       " 'poisson_generator',\n",
       " 'poisson_generator_ps',\n",
       " 'pp_cond_exp_mc_urbanczik',\n",
       " 'pp_pop_psc_delta',\n",
       " 'pp_psc_delta',\n",
       " 'ppd_sup_generator',\n",
       " 'pulsepacket_generator',\n",
       " 'quantal_stp_synapse',\n",
       " 'quantal_stp_synapse_hpc',\n",
       " 'quantal_stp_synapse_lbl',\n",
       " 'rate_connection_delayed',\n",
       " 'rate_connection_delayed_lbl',\n",
       " 'rate_connection_instantaneous',\n",
       " 'rate_connection_instantaneous_lbl',\n",
       " 'rate_transformer_gauss',\n",
       " 'rate_transformer_lin',\n",
       " 'rate_transformer_sigmoid',\n",
       " 'rate_transformer_sigmoid_gg_1998',\n",
       " 'rate_transformer_tanh',\n",
       " 'rate_transformer_threshold_lin',\n",
       " 'siegert_neuron',\n",
       " 'sigmoid_rate_gg_1998_ipn',\n",
       " 'sigmoid_rate_ipn',\n",
       " 'sinusoidal_gamma_generator',\n",
       " 'sinusoidal_poisson_generator',\n",
       " 'spike_dilutor',\n",
       " 'spike_generator',\n",
       " 'spike_recorder',\n",
       " 'spin_detector',\n",
       " 'static_synapse',\n",
       " 'static_synapse_hom_w',\n",
       " 'static_synapse_hom_w_hpc',\n",
       " 'static_synapse_hom_w_lbl',\n",
       " 'static_synapse_hpc',\n",
       " 'static_synapse_lbl',\n",
       " 'stdp_dopamine_synapse',\n",
       " 'stdp_dopamine_synapse_hpc',\n",
       " 'stdp_dopamine_synapse_lbl',\n",
       " 'stdp_facetshw_synapse_hom',\n",
       " 'stdp_facetshw_synapse_hom_hpc',\n",
       " 'stdp_facetshw_synapse_hom_lbl',\n",
       " 'stdp_nn_pre_centered_synapse',\n",
       " 'stdp_nn_pre_centered_synapse_hpc',\n",
       " 'stdp_nn_pre_centered_synapse_lbl',\n",
       " 'stdp_nn_restr_synapse',\n",
       " 'stdp_nn_restr_synapse_hpc',\n",
       " 'stdp_nn_restr_synapse_lbl',\n",
       " 'stdp_nn_symm_synapse',\n",
       " 'stdp_nn_symm_synapse_hpc',\n",
       " 'stdp_nn_symm_synapse_lbl',\n",
       " 'stdp_pl_synapse_hom',\n",
       " 'stdp_pl_synapse_hom_hpc',\n",
       " 'stdp_pl_synapse_hom_lbl',\n",
       " 'stdp_synapse',\n",
       " 'stdp_synapse_hom',\n",
       " 'stdp_synapse_hom_hpc',\n",
       " 'stdp_synapse_hom_lbl',\n",
       " 'stdp_synapse_hpc',\n",
       " 'stdp_synapse_lbl',\n",
       " 'stdp_triplet_synapse',\n",
       " 'stdp_triplet_synapse_hpc',\n",
       " 'stdp_triplet_synapse_lbl',\n",
       " 'step_current_generator',\n",
       " 'step_rate_generator',\n",
       " 'tanh_rate_ipn',\n",
       " 'tanh_rate_opn',\n",
       " 'threshold_lin_rate_ipn',\n",
       " 'threshold_lin_rate_opn',\n",
       " 'tsodyks2_synapse',\n",
       " 'tsodyks2_synapse_hpc',\n",
       " 'tsodyks2_synapse_lbl',\n",
       " 'tsodyks_synapse',\n",
       " 'tsodyks_synapse_hom',\n",
       " 'tsodyks_synapse_hom_hpc',\n",
       " 'tsodyks_synapse_hom_lbl',\n",
       " 'tsodyks_synapse_hpc',\n",
       " 'tsodyks_synapse_lbl',\n",
       " 'urbanczik_synapse',\n",
       " 'urbanczik_synapse_hpc',\n",
       " 'urbanczik_synapse_lbl',\n",
       " 'vogels_sprekeler_synapse',\n",
       " 'vogels_sprekeler_synapse_hpc',\n",
       " 'vogels_sprekeler_synapse_lbl',\n",
       " 'voltmeter',\n",
       " 'volume_transmitter',\n",
       " 'weight_recorder')"
      ]
     },
     "execution_count": 3,
     "metadata": {},
     "output_type": "execute_result"
    }
   ],
   "source": [
    "# ... or IPython's question mark\n",
    "nest.Models()"
   ]
  },
  {
   "cell_type": "markdown",
   "metadata": {
    "slideshow": {
     "slide_type": "slide"
    }
   },
   "source": [
    "## Creating a neuron"
   ]
  },
  {
   "cell_type": "code",
   "execution_count": 4,
   "metadata": {
    "slideshow": {
     "slide_type": "subslide"
    }
   },
   "outputs": [],
   "source": [
    "# before creating a new network,\n",
    "# reset the simulation kernel / remove all nodes\n",
    "nest.ResetKernel()"
   ]
  },
  {
   "cell_type": "code",
   "execution_count": 5,
   "metadata": {
    "slideshow": {
     "slide_type": "-"
    }
   },
   "outputs": [],
   "source": [
    "# create the neuron\n",
    "neuron = nest.Create('iaf_psc_exp')"
   ]
  },
  {
   "cell_type": "code",
   "execution_count": 6,
   "metadata": {
    "slideshow": {
     "slide_type": "-"
    }
   },
   "outputs": [
    {
     "data": {
      "text/plain": [
       "NodeCollection(metadata=None, model=iaf_psc_exp, size=1, first=1)"
      ]
     },
     "execution_count": 6,
     "metadata": {},
     "output_type": "execute_result"
    }
   ],
   "source": [
    "# investigate the neuron\n",
    "\n",
    "# Create() just returns a list node collection yielding the size and the first GID.\n",
    "# One can add node collections to create larger populations\n",
    "neuron"
   ]
  },
  {
   "cell_type": "code",
   "execution_count": 7,
   "metadata": {
    "slideshow": {
     "slide_type": "subslide"
    }
   },
   "outputs": [
    {
     "data": {
      "text/plain": [
       "({'archiver_length': 0,\n",
       "  'beta_Ca': 0.001,\n",
       "  'C_m': 250.0,\n",
       "  'Ca': 0.0,\n",
       "  'delta': 0.0,\n",
       "  'E_L': -70.0,\n",
       "  'element_type': 'neuron',\n",
       "  'frozen': False,\n",
       "  'global_id': 1,\n",
       "  'I_e': 0.0,\n",
       "  'local': True,\n",
       "  'model': 'iaf_psc_exp',\n",
       "  'node_uses_wfr': False,\n",
       "  'post_trace': 0.0,\n",
       "  'recordables': ('I_syn_ex', 'I_syn_in', 'V_m'),\n",
       "  'rho': 0.01,\n",
       "  'synaptic_elements': {},\n",
       "  't_ref': 2.0,\n",
       "  't_spike': -1.0,\n",
       "  'tau_Ca': 10000.0,\n",
       "  'tau_m': 10.0,\n",
       "  'tau_minus': 20.0,\n",
       "  'tau_minus_triplet': 110.0,\n",
       "  'tau_syn_ex': 2.0,\n",
       "  'tau_syn_in': 2.0,\n",
       "  'thread': 0,\n",
       "  'thread_local_id': -1,\n",
       "  'V_m': -70.0,\n",
       "  'V_reset': -70.0,\n",
       "  'V_th': -55.0,\n",
       "  'vp': 0},)"
      ]
     },
     "execution_count": 7,
     "metadata": {},
     "output_type": "execute_result"
    }
   ],
   "source": [
    "# current dynamical state/parameters of the neuron\n",
    "# note that the membrane voltage is at -70 mV\n",
    "nest.GetStatus(neuron)"
   ]
  },
  {
   "cell_type": "markdown",
   "metadata": {
    "slideshow": {
     "slide_type": "slide"
    }
   },
   "source": [
    "## Creating a spikegenerator"
   ]
  },
  {
   "cell_type": "code",
   "execution_count": 8,
   "metadata": {
    "slideshow": {
     "slide_type": "subslide"
    }
   },
   "outputs": [],
   "source": [
    "# create a spike generator\n",
    "spikegenerator = nest.Create('spike_generator')"
   ]
  },
  {
   "cell_type": "code",
   "execution_count": 9,
   "metadata": {
    "slideshow": {
     "slide_type": "-"
    }
   },
   "outputs": [
    {
     "data": {
      "text/plain": [
       "({'allow_offgrid_times': False,\n",
       "  'element_type': 'stimulator',\n",
       "  'frozen': False,\n",
       "  'global_id': 2,\n",
       "  'label': '',\n",
       "  'local': True,\n",
       "  'model': 'spike_generator',\n",
       "  'node_uses_wfr': False,\n",
       "  'origin': 0.0,\n",
       "  'precise_times': False,\n",
       "  'shift_now_spikes': False,\n",
       "  'spike_multiplicities': array([], dtype=int64),\n",
       "  'spike_times': array([], dtype=float64),\n",
       "  'spike_weights': array([], dtype=float64),\n",
       "  'start': 0.0,\n",
       "  'stimulus_source': '0',\n",
       "  'stop': 1.7976931348623157e+308,\n",
       "  'thread': 0,\n",
       "  'thread_local_id': -1,\n",
       "  'vp': 0},)"
      ]
     },
     "execution_count": 9,
     "metadata": {},
     "output_type": "execute_result"
    }
   ],
   "source": [
    "# check out 'spike_times' in its parameters\n",
    "nest.GetStatus(spikegenerator)"
   ]
  },
  {
   "cell_type": "code",
   "execution_count": 10,
   "metadata": {
    "slideshow": {
     "slide_type": "subslide"
    }
   },
   "outputs": [],
   "source": [
    "# set the spike times at 10 and 50 ms\n",
    "nest.SetStatus(spikegenerator, {'spike_times': [10., 50., 55., 63., 65., 68., 100., 110., 115., 120., 122., 125.]})"
   ]
  },
  {
   "cell_type": "markdown",
   "metadata": {
    "slideshow": {
     "slide_type": "slide"
    }
   },
   "source": [
    "## Creating a voltmeter"
   ]
  },
  {
   "cell_type": "code",
   "execution_count": 11,
   "metadata": {
    "slideshow": {
     "slide_type": "subslide"
    }
   },
   "outputs": [],
   "source": [
    "# create a voltmeter for recording\n",
    "voltmeter = nest.Create('voltmeter')\n"
   ]
  },
  {
   "cell_type": "code",
   "execution_count": 12,
   "metadata": {
    "slideshow": {
     "slide_type": "-"
    }
   },
   "outputs": [
    {
     "data": {
      "text/plain": [
       "NodeCollection(metadata=None, model=voltmeter, size=1, first=3)"
      ]
     },
     "execution_count": 12,
     "metadata": {},
     "output_type": "execute_result"
    }
   ],
   "source": [
    "# investigate the voltmeter (check out the GID)\n",
    "voltmeter"
   ]
  },
  {
   "cell_type": "code",
   "execution_count": null,
   "metadata": {
    "slideshow": {
     "slide_type": "-"
    }
   },
   "outputs": [],
   "source": [
    "# see that it records membrane voltage, senders, times\n",
    "nest.GetStatus(voltmeter)"
   ]
  },
  {
   "cell_type": "markdown",
   "metadata": {
    "slideshow": {
     "slide_type": "-"
    }
   },
   "source": [
    "## Creating a spike detector"
   ]
  },
  {
   "cell_type": "code",
   "execution_count": 13,
   "metadata": {
    "slideshow": {
     "slide_type": "-"
    }
   },
   "outputs": [],
   "source": [
    "# create a spike detector for recording\n",
    "spikerecorder = nest.Create('spike_recorder')"
   ]
  },
  {
   "cell_type": "code",
   "execution_count": 14,
   "metadata": {
    "slideshow": {
     "slide_type": "-"
    }
   },
   "outputs": [
    {
     "data": {
      "text/plain": [
       "NodeCollection(metadata=None, model=spike_recorder, size=1, first=4)"
      ]
     },
     "execution_count": 14,
     "metadata": {},
     "output_type": "execute_result"
    }
   ],
   "source": [
    "# investigate the voltmeter\n",
    "spikerecorder"
   ]
  },
  {
   "cell_type": "code",
   "execution_count": 15,
   "metadata": {
    "slideshow": {
     "slide_type": "-"
    }
   },
   "outputs": [
    {
     "data": {
      "text/plain": [
       "({'element_type': 'recorder',\n",
       "  'events': {'senders': array([], dtype=int64),\n",
       "   'times': array([], dtype=float64)},\n",
       "  'frozen': False,\n",
       "  'global_id': 4,\n",
       "  'label': '',\n",
       "  'local': True,\n",
       "  'model': 'spike_recorder',\n",
       "  'n_events': 0,\n",
       "  'node_uses_wfr': False,\n",
       "  'origin': 0.0,\n",
       "  'record_to': 'memory',\n",
       "  'start': 0.0,\n",
       "  'stop': 1.7976931348623157e+308,\n",
       "  'thread': 0,\n",
       "  'thread_local_id': -1,\n",
       "  'time_in_steps': False,\n",
       "  'vp': 0},)"
      ]
     },
     "execution_count": 15,
     "metadata": {},
     "output_type": "execute_result"
    }
   ],
   "source": [
    "# see that it records membrane voltage, senders, times\n",
    "nest.GetStatus(spikerecorder)"
   ]
  },
  {
   "cell_type": "markdown",
   "metadata": {
    "slideshow": {
     "slide_type": "slide"
    }
   },
   "source": [
    "## Connecting"
   ]
  },
  {
   "cell_type": "code",
   "execution_count": 16,
   "metadata": {
    "slideshow": {
     "slide_type": "subslide"
    }
   },
   "outputs": [
    {
     "data": {
      "text/plain": [
       "\u001b[0;31mSignature:\u001b[0m\n",
       "\u001b[0mnest\u001b[0m\u001b[0;34m.\u001b[0m\u001b[0mConnect\u001b[0m\u001b[0;34m(\u001b[0m\u001b[0;34m\u001b[0m\n",
       "\u001b[0;34m\u001b[0m    \u001b[0mpre\u001b[0m\u001b[0;34m,\u001b[0m\u001b[0;34m\u001b[0m\n",
       "\u001b[0;34m\u001b[0m    \u001b[0mpost\u001b[0m\u001b[0;34m,\u001b[0m\u001b[0;34m\u001b[0m\n",
       "\u001b[0;34m\u001b[0m    \u001b[0mconn_spec\u001b[0m\u001b[0;34m=\u001b[0m\u001b[0;32mNone\u001b[0m\u001b[0;34m,\u001b[0m\u001b[0;34m\u001b[0m\n",
       "\u001b[0;34m\u001b[0m    \u001b[0msyn_spec\u001b[0m\u001b[0;34m=\u001b[0m\u001b[0;32mNone\u001b[0m\u001b[0;34m,\u001b[0m\u001b[0;34m\u001b[0m\n",
       "\u001b[0;34m\u001b[0m    \u001b[0mreturn_synapsecollection\u001b[0m\u001b[0;34m=\u001b[0m\u001b[0;32mFalse\u001b[0m\u001b[0;34m,\u001b[0m\u001b[0;34m\u001b[0m\n",
       "\u001b[0;34m\u001b[0m\u001b[0;34m)\u001b[0m\u001b[0;34m\u001b[0m\u001b[0;34m\u001b[0m\u001b[0m\n",
       "\u001b[0;31mDocstring:\u001b[0m\n",
       "Connect `pre` nodes to `post` nodes.\n",
       "\n",
       "Nodes in `pre` and `post` are connected using the specified connectivity\n",
       "(`all-to-all` by default) and synapse type (:cpp:class:`static_synapse <nest::static_synapse>` by default).\n",
       "Details depend on the connectivity rule.\n",
       "\n",
       "Parameters\n",
       "----------\n",
       "pre : NodeCollection (or array-like object)\n",
       "    Presynaptic nodes, as object representing the IDs of the nodes\n",
       "post : NodeCollection (or array-like object)\n",
       "    Postsynaptic nodes, as object representing the IDs of the nodes\n",
       "conn_spec : str or dict, optional\n",
       "    Specifies connectivity rule, see below\n",
       "syn_spec : str or dict, optional\n",
       "    Specifies synapse model, see below\n",
       "return_synapsecollection: bool\n",
       "    Specifies whether or not we should return a :py:class:`.SynapseCollection` of pre and post connections\n",
       "\n",
       "Raises\n",
       "------\n",
       "kernel.NESTError\n",
       "\n",
       "Notes\n",
       "-----\n",
       "It is possible to connect NumPy arrays of node IDs one-to-one by passing the arrays as `pre` and `post`,\n",
       "specifying `'one_to_one'` for `conn_spec`.\n",
       "In that case, the arrays may contain non-unique IDs.\n",
       "You may also specify weight, delay, and receptor type for each connection as NumPy arrays in the `syn_spec`\n",
       "dictionary.\n",
       "This feature is currently not available when MPI is used; trying to connect arrays with more than one\n",
       "MPI process will raise an error.\n",
       "\n",
       "If pre and post have spatial positions, a `mask` can be specified as a dictionary. The mask define which\n",
       "nodes are considered as potential targets for each source node. Connections with spatial nodes can also\n",
       "use `nest.spatial_distributions` as parameters, for instance for the probability `p`.\n",
       "\n",
       "**Connectivity specification (conn_spec)**\n",
       "\n",
       "Available rules and associated parameters::\n",
       "\n",
       " - 'all_to_all' (default)\n",
       " - 'one_to_one'\n",
       " - 'fixed_indegree', 'indegree'\n",
       " - 'fixed_outdegree', 'outdegree'\n",
       " - 'fixed_total_number', 'N'\n",
       " - 'pairwise_bernoulli', 'p'\n",
       " - 'symmetric_pairwise_bernoulli', 'p'\n",
       "\n",
       "See :ref:`conn_rules` for more details, including example usage.\n",
       "\n",
       "**Synapse specification (syn_spec)**\n",
       "\n",
       "The synapse model and its properties can be given either as a string\n",
       "identifying a specific synapse model (default: :cpp:class:`static_synapse <nest::static_synapse>`) or\n",
       "as a dictionary specifying the synapse model and its parameters.\n",
       "\n",
       "Available keys in the synapse specification dictionary are::\n",
       "\n",
       " - 'synapse_model'\n",
       " - 'weight'\n",
       " - 'delay'\n",
       " - 'receptor_type'\n",
       " - any parameters specific to the selected synapse model.\n",
       "\n",
       "See :ref:`synapse_spec` for details, including example usage.\n",
       "\n",
       "All parameters are optional and if not specified, the default values\n",
       "of the synapse model will be used. The key 'synapse_model' identifies the\n",
       "synapse model, this can be one of NEST's built-in synapse models\n",
       "or a user-defined model created via :py:func:`.CopyModel`.\n",
       "\n",
       "If `synapse_model` is not specified the default model :cpp:class:`static_synapse <nest::static_synapse>`\n",
       "will be used.\n",
       "\n",
       "Distributed parameters can be defined through NEST's different parametertypes. NEST has various\n",
       "random parameters, spatial parameters and distributions (only accesseable for nodes with spatial positions),\n",
       "logical expressions and mathematical expressions, which can be used to define node and connection parameters.\n",
       "\n",
       "To see all available parameters, see documentation defined in distributions, logic, math,\n",
       "random and spatial modules.\n",
       "\n",
       "See Also\n",
       "---------\n",
       ":ref:`connection_management`\n",
       "\u001b[0;31mFile:\u001b[0m      ~/work/repositories/projects/nest/eitn/lib/python3.8/site-packages/nest/lib/hl_api_connections.py\n",
       "\u001b[0;31mType:\u001b[0m      function\n"
      ]
     },
     "metadata": {},
     "output_type": "display_data"
    }
   ],
   "source": [
    "# investigate Connect() function\n",
    "nest.Connect?"
   ]
  },
  {
   "cell_type": "code",
   "execution_count": 17,
   "metadata": {
    "slideshow": {
     "slide_type": "subslide"
    }
   },
   "outputs": [],
   "source": [
    "# connect spike generator and voltmeter to the neuron\n",
    "nest.Connect(spikegenerator, neuron, syn_spec={'weight': 1e3})"
   ]
  },
  {
   "cell_type": "code",
   "execution_count": 18,
   "metadata": {
    "slideshow": {
     "slide_type": "-"
    }
   },
   "outputs": [],
   "source": [
    "nest.Connect(voltmeter, neuron)\n",
    "nest.Connect(neuron, spikerecorder) # not the change of order"
   ]
  },
  {
   "cell_type": "markdown",
   "metadata": {
    "slideshow": {
     "slide_type": "slide"
    }
   },
   "source": [
    "## Simulating"
   ]
  },
  {
   "cell_type": "code",
   "execution_count": 19,
   "metadata": {
    "slideshow": {
     "slide_type": "subslide"
    }
   },
   "outputs": [
    {
     "name": "stdout",
     "output_type": "stream",
     "text": [
      "\n",
      "Sep 16 14:02:33 NodeManager::prepare_nodes [Info]: \n",
      "    Preparing 4 nodes for simulation.\n",
      "\n",
      "Sep 16 14:02:33 SimulationManager::start_updating_ [Info]: \n",
      "    Number of local nodes: 4\n",
      "    Simulation time (ms): 200\n",
      "    Number of OpenMP threads: 1\n",
      "    Not using MPI\n",
      "\n",
      "Sep 16 14:02:33 SimulationManager::run [Info]: \n",
      "    Simulation finished.\n"
     ]
    }
   ],
   "source": [
    "# run simulation for 100 ms\n",
    "nest.Simulate(200.)"
   ]
  },
  {
   "cell_type": "code",
   "execution_count": 20,
   "metadata": {
    "slideshow": {
     "slide_type": "subslide"
    }
   },
   "outputs": [
    {
     "data": {
      "text/plain": [
       "{'adaptive_spike_buffers': True,\n",
       " 'adaptive_target_buffers': True,\n",
       " 'biological_time': 200.0,\n",
       " 'buffer_size_spike_data': 2,\n",
       " 'buffer_size_target_data': 2,\n",
       " 'data_path': '',\n",
       " 'data_prefix': '',\n",
       " 'dict_miss_is_error': True,\n",
       " 'growth_factor_buffer_spike_data': 1.5,\n",
       " 'growth_factor_buffer_target_data': 1.5,\n",
       " 'keep_source_table': True,\n",
       " 'local_num_threads': 1,\n",
       " 'local_spike_counter': 2,\n",
       " 'max_buffer_size_spike_data': 8388608,\n",
       " 'max_buffer_size_target_data': 16777216,\n",
       " 'max_delay': 1.0,\n",
       " 'max_num_syn_models': 512,\n",
       " 'max_update_time': 4.9999999999999996e-06,\n",
       " 'min_delay': 1.0,\n",
       " 'min_update_time': 9.9999999999997e-07,\n",
       " 'ms_per_tic': 0.001,\n",
       " 'network_size': 4,\n",
       " 'num_connections': 3,\n",
       " 'num_processes': 1,\n",
       " 'off_grid_spiking': False,\n",
       " 'overwrite_files': False,\n",
       " 'print_time': False,\n",
       " 'recording_backends': {'memory': {}, 'ascii': {}, 'screen': {}},\n",
       " 'recv_buffer_size_secondary_events': 0,\n",
       " 'resolution': 0.1,\n",
       " 'rng_seed': 143202461,\n",
       " 'rng_type': 'mt19937_64',\n",
       " 'rng_types': ('Philox_32',\n",
       "  'Philox_64',\n",
       "  'Threefry_32',\n",
       "  'Threefry_64',\n",
       "  'mt19937',\n",
       "  'mt19937_64'),\n",
       " 'send_buffer_size_secondary_events': 0,\n",
       " 'sort_connections_by_source': True,\n",
       " 'structural_plasticity_synapses': {},\n",
       " 'structural_plasticity_update_interval': 10000.0,\n",
       " 'T_max': 1152921504606846.8,\n",
       " 'T_min': -1152921504606846.8,\n",
       " 'tics_per_ms': 1000.0,\n",
       " 'tics_per_step': 100,\n",
       " 'time_communicate_prepare': 1.6e-05,\n",
       " 'time_construction_connect': 0.000194,\n",
       " 'time_construction_create': 0.0008,\n",
       " 'time_simulate': 0.000299,\n",
       " 'to_do': 0,\n",
       " 'total_num_virtual_procs': 1,\n",
       " 'update_time_limit': inf,\n",
       " 'use_compressed_spikes': True,\n",
       " 'use_wfr': True,\n",
       " 'wfr_comm_interval': 1.0,\n",
       " 'wfr_interpolation_order': 3,\n",
       " 'wfr_max_iterations': 15,\n",
       " 'wfr_tol': 0.0001}"
      ]
     },
     "execution_count": 20,
     "metadata": {},
     "output_type": "execute_result"
    }
   ],
   "source": [
    "# look at nest's KernelStatus:\n",
    "# network_size (root node, neuron, spike generator, voltmeter)\n",
    "# num_connections\n",
    "# time (simulation duration)\n",
    "nest.GetKernelStatus()"
   ]
  },
  {
   "cell_type": "code",
   "execution_count": 21,
   "metadata": {
    "slideshow": {
     "slide_type": "subslide"
    }
   },
   "outputs": [
    {
     "data": {
      "text/plain": [
       "({'element_type': 'recorder',\n",
       "  'events': {'senders': array([1, 1, 1, 1, 1, 1, 1, 1, 1, 1, 1, 1, 1, 1, 1, 1, 1, 1, 1, 1, 1, 1,\n",
       "          1, 1, 1, 1, 1, 1, 1, 1, 1, 1, 1, 1, 1, 1, 1, 1, 1, 1, 1, 1, 1, 1,\n",
       "          1, 1, 1, 1, 1, 1, 1, 1, 1, 1, 1, 1, 1, 1, 1, 1, 1, 1, 1, 1, 1, 1,\n",
       "          1, 1, 1, 1, 1, 1, 1, 1, 1, 1, 1, 1, 1, 1, 1, 1, 1, 1, 1, 1, 1, 1,\n",
       "          1, 1, 1, 1, 1, 1, 1, 1, 1, 1, 1, 1, 1, 1, 1, 1, 1, 1, 1, 1, 1, 1,\n",
       "          1, 1, 1, 1, 1, 1, 1, 1, 1, 1, 1, 1, 1, 1, 1, 1, 1, 1, 1, 1, 1, 1,\n",
       "          1, 1, 1, 1, 1, 1, 1, 1, 1, 1, 1, 1, 1, 1, 1, 1, 1, 1, 1, 1, 1, 1,\n",
       "          1, 1, 1, 1, 1, 1, 1, 1, 1, 1, 1, 1, 1, 1, 1, 1, 1, 1, 1, 1, 1, 1,\n",
       "          1, 1, 1, 1, 1, 1, 1, 1, 1, 1, 1, 1, 1, 1, 1, 1, 1, 1, 1, 1, 1, 1,\n",
       "          1]),\n",
       "   'times': array([  1.,   2.,   3.,   4.,   5.,   6.,   7.,   8.,   9.,  10.,  11.,\n",
       "           12.,  13.,  14.,  15.,  16.,  17.,  18.,  19.,  20.,  21.,  22.,\n",
       "           23.,  24.,  25.,  26.,  27.,  28.,  29.,  30.,  31.,  32.,  33.,\n",
       "           34.,  35.,  36.,  37.,  38.,  39.,  40.,  41.,  42.,  43.,  44.,\n",
       "           45.,  46.,  47.,  48.,  49.,  50.,  51.,  52.,  53.,  54.,  55.,\n",
       "           56.,  57.,  58.,  59.,  60.,  61.,  62.,  63.,  64.,  65.,  66.,\n",
       "           67.,  68.,  69.,  70.,  71.,  72.,  73.,  74.,  75.,  76.,  77.,\n",
       "           78.,  79.,  80.,  81.,  82.,  83.,  84.,  85.,  86.,  87.,  88.,\n",
       "           89.,  90.,  91.,  92.,  93.,  94.,  95.,  96.,  97.,  98.,  99.,\n",
       "          100., 101., 102., 103., 104., 105., 106., 107., 108., 109., 110.,\n",
       "          111., 112., 113., 114., 115., 116., 117., 118., 119., 120., 121.,\n",
       "          122., 123., 124., 125., 126., 127., 128., 129., 130., 131., 132.,\n",
       "          133., 134., 135., 136., 137., 138., 139., 140., 141., 142., 143.,\n",
       "          144., 145., 146., 147., 148., 149., 150., 151., 152., 153., 154.,\n",
       "          155., 156., 157., 158., 159., 160., 161., 162., 163., 164., 165.,\n",
       "          166., 167., 168., 169., 170., 171., 172., 173., 174., 175., 176.,\n",
       "          177., 178., 179., 180., 181., 182., 183., 184., 185., 186., 187.,\n",
       "          188., 189., 190., 191., 192., 193., 194., 195., 196., 197., 198.,\n",
       "          199.]),\n",
       "   'V_m': array([-70.        , -70.        , -70.        , -70.        ,\n",
       "          -70.        , -70.        , -70.        , -70.        ,\n",
       "          -70.        , -70.        , -70.        , -67.01693242,\n",
       "          -65.49148688, -64.82311939, -64.65015237, -64.75554339,\n",
       "          -65.00975432, -65.3361208 , -65.68986675, -66.04539337,\n",
       "          -66.38858506, -66.71215688, -67.0128454 , -67.28971646,\n",
       "          -67.54314918, -67.77422924, -67.98438945, -68.17519944,\n",
       "          -68.34824522, -68.50506233, -68.64710117, -68.77571108,\n",
       "          -68.89213543, -68.99751286, -69.09288191, -69.17918728,\n",
       "          -69.25728682, -69.32795858, -69.39190769, -69.44977284,\n",
       "          -69.50213238, -69.54950983, -69.59237909, -69.63116901,\n",
       "          -69.66626771, -69.69802642, -69.72676293, -69.75276483,\n",
       "          -69.77629234, -69.79758092, -69.81684363, -66.85120568,\n",
       "          -65.34153112, -64.68743381, -64.52737898, -64.64445343,\n",
       "          -61.92616838, -60.73665491, -60.43068867, -60.62107991,\n",
       "          -61.07674898, -61.66094373, -62.29380055, -62.92966727,\n",
       "          -60.56030916, -59.61343347, -56.4996195 , -55.29622444,\n",
       "          -55.18634891, -70.        , -70.        , -68.73642934,\n",
       "          -67.98682381, -67.65081205, -67.55436685, -67.5930098 ,\n",
       "          -67.70434378, -67.85140271, -68.01256148, -68.17542406,\n",
       "          -68.33312356, -68.48208466, -68.6206724 , -68.7483779 ,\n",
       "          -68.86532935, -68.97199977, -69.06903372, -69.15714578,\n",
       "          -69.23706216, -69.30948831, -69.37509183, -69.4344946 ,\n",
       "          -69.48827006, -69.53694365, -69.58099476, -69.62085957,\n",
       "          -69.65693421, -69.68957799, -69.71911659, -69.74584498,\n",
       "          -69.77003031, -66.8088468 , -65.30320296, -64.6527529 ,\n",
       "          -64.49599829, -64.61605895, -64.88354355, -65.22192054,\n",
       "          -65.58653407, -65.95189409, -66.30398341, -63.65253855,\n",
       "          -62.4350663 , -62.05016141, -62.13659136, -62.47845913,\n",
       "          -59.96464581, -58.96079518, -58.82321738, -59.1662116 ,\n",
       "          -59.7601064 , -57.48639325, -56.70710698, -70.        ,\n",
       "          -70.        , -69.30809442, -65.45863216, -63.51604745,\n",
       "          -62.69271661, -62.51447376, -62.69693674, -63.07052723,\n",
       "          -63.53502215, -64.03201415, -64.52823176, -65.00544424,\n",
       "          -65.45435794, -65.87093201, -66.25415971, -66.60473712,\n",
       "          -66.92426881, -67.21479783, -67.47853142, -67.71768424,\n",
       "          -67.93439212, -68.13066763, -68.30838037, -68.46925145,\n",
       "          -68.61485604, -68.74663025, -68.8658801 , -68.97379128,\n",
       "          -69.07143911, -69.15979799, -69.23975053, -69.31209586,\n",
       "          -69.37755739, -69.43678991, -69.490386  , -69.53888191,\n",
       "          -69.58276294, -69.6224682 , -69.65839504, -69.69090301,\n",
       "          -69.72031746, -69.74693276, -69.77101528, -69.79280605,\n",
       "          -69.81252316, -69.83036394, -69.84650694, -69.86111374,\n",
       "          -69.87433051, -69.88628955, -69.89711053, -69.90690175,\n",
       "          -69.91576122, -69.9237776 , -69.93103112, -69.93759438,\n",
       "          -69.94353306, -69.9489066 , -69.95376878, -69.95816826,\n",
       "          -69.96214908, -69.96575107, -69.96901029, -69.97195935,\n",
       "          -69.97462777, -69.97704226, -69.97922697, -69.98120379,\n",
       "          -69.98299248, -69.98461096, -69.98607542, -69.98740052,\n",
       "          -69.98859952, -69.98968442, -69.99066608])},\n",
       "  'frozen': False,\n",
       "  'global_id': 3,\n",
       "  'interval': 1.0,\n",
       "  'label': '',\n",
       "  'local': True,\n",
       "  'model': 'voltmeter',\n",
       "  'n_events': 199,\n",
       "  'node_uses_wfr': False,\n",
       "  'offset': 0.0,\n",
       "  'origin': 0.0,\n",
       "  'record_from': ('V_m',),\n",
       "  'record_to': 'memory',\n",
       "  'start': 0.0,\n",
       "  'stop': 1.7976931348623157e+308,\n",
       "  'thread': 0,\n",
       "  'thread_local_id': 2,\n",
       "  'time_in_steps': False,\n",
       "  'vp': 0},)"
      ]
     },
     "execution_count": 21,
     "metadata": {},
     "output_type": "execute_result"
    }
   ],
   "source": [
    "# note that voltmeter has recorded 99 events\n",
    "nest.GetStatus(voltmeter)"
   ]
  },
  {
   "cell_type": "code",
   "execution_count": 22,
   "metadata": {
    "slideshow": {
     "slide_type": "subslide"
    }
   },
   "outputs": [],
   "source": [
    "# read out recording time and voltage from voltmeter\n",
    "times = nest.GetStatus(voltmeter)[0]['events']['times']\n",
    "voltages = nest.GetStatus(voltmeter)[0]['events']['V_m']"
   ]
  },
  {
   "cell_type": "code",
   "execution_count": 23,
   "metadata": {
    "slideshow": {
     "slide_type": "subslide"
    }
   },
   "outputs": [
    {
     "data": {
      "text/plain": [
       "({'element_type': 'recorder',\n",
       "  'events': {'senders': array([1, 1]), 'times': array([ 69.1, 123.5])},\n",
       "  'frozen': False,\n",
       "  'global_id': 4,\n",
       "  'label': '',\n",
       "  'local': True,\n",
       "  'model': 'spike_recorder',\n",
       "  'n_events': 2,\n",
       "  'node_uses_wfr': False,\n",
       "  'origin': 0.0,\n",
       "  'record_to': 'memory',\n",
       "  'start': 0.0,\n",
       "  'stop': 1.7976931348623157e+308,\n",
       "  'thread': 0,\n",
       "  'thread_local_id': 3,\n",
       "  'time_in_steps': False,\n",
       "  'vp': 0},)"
      ]
     },
     "execution_count": 23,
     "metadata": {},
     "output_type": "execute_result"
    }
   ],
   "source": [
    "# now have a look at the spikedetector\n",
    "nest.GetStatus(spikerecorder)"
   ]
  },
  {
   "cell_type": "code",
   "execution_count": 24,
   "metadata": {
    "slideshow": {
     "slide_type": "subslide"
    }
   },
   "outputs": [],
   "source": [
    "spike_times = nest.GetStatus(spikerecorder)[0]['events']['times']"
   ]
  },
  {
   "cell_type": "markdown",
   "metadata": {
    "slideshow": {
     "slide_type": "slide"
    }
   },
   "source": [
    "## Plotting"
   ]
  },
  {
   "cell_type": "code",
   "execution_count": 25,
   "metadata": {
    "slideshow": {
     "slide_type": "subslide"
    }
   },
   "outputs": [
    {
     "data": {
      "text/plain": [
       "<matplotlib.legend.Legend at 0x7f651ad92a60>"
      ]
     },
     "execution_count": 25,
     "metadata": {},
     "output_type": "execute_result"
    },
    {
     "data": {
      "image/png": "[encoded data removed]",
      "text/plain": [
       "<Figure size 432x288 with 1 Axes>"
      ]
     },
     "metadata": {
      "needs_background": "light"
     },
     "output_type": "display_data"
    }
   ],
   "source": [
    "# plot results\n",
    "# units can be found in documentation\n",
    "plt.plot(times, voltages, label='Neuron 1')\n",
    "plt.xlabel('Time (ms)')\n",
    "plt.ylabel('Membrane potential (mV)')\n",
    "plt.title('Membrane potential')\n",
    "plt.legend()"
   ]
  },
  {
   "cell_type": "code",
   "execution_count": 26,
   "metadata": {
    "slideshow": {
     "slide_type": "subslide"
    }
   },
   "outputs": [
    {
     "data": {
      "image/png": "[encoded data removed]",
      "text/plain": [
       "<Figure size 432x288 with 1 Axes>"
      ]
     },
     "metadata": {
      "needs_background": "light"
     },
     "output_type": "display_data"
    }
   ],
   "source": [
    "plt.plot(spike_times, np.zeros(len(spike_times)), marker = 'o', linestyle = ' ' )\n",
    "plt.xlabel('Time (ms)')\n",
    "plt.xlim(0,200)\n",
    "plt.yticks([])\n",
    "plt.title('Spike times')\n",
    "plt.show()"
   ]
  },
  {
   "cell_type": "code",
   "execution_count": 27,
   "metadata": {
    "slideshow": {
     "slide_type": "subslide"
    }
   },
   "outputs": [],
   "source": [
    "# create the same plot with NEST's build-in plotting function\n",
    "import nest.voltage_trace"
   ]
  },
  {
   "cell_type": "code",
   "execution_count": 28,
   "metadata": {
    "slideshow": {
     "slide_type": "-"
    }
   },
   "outputs": [
    {
     "data": {
      "text/plain": [
       "[[<matplotlib.lines.Line2D at 0x7f651ac16550>]]"
      ]
     },
     "execution_count": 28,
     "metadata": {},
     "output_type": "execute_result"
    },
    {
     "data": {
      "image/png": "[encoded data removed]",
      "text/plain": [
       "<Figure size 432x288 with 1 Axes>"
      ]
     },
     "metadata": {
      "needs_background": "light"
     },
     "output_type": "display_data"
    }
   ],
   "source": [
    "nest.voltage_trace.from_device(voltmeter) "
   ]
  },
  {
   "cell_type": "markdown",
   "metadata": {
    "slideshow": {
     "slide_type": "-"
    }
   },
   "source": [
    "## Full network example"
   ]
  },
  {
   "cell_type": "code",
   "execution_count": 11,
   "metadata": {
    "slideshow": {
     "slide_type": "-"
    }
   },
   "outputs": [
    {
     "name": "stdout",
     "output_type": "stream",
     "text": [
      "\n",
      "Sep 20 21:42:06 NodeManager::prepare_nodes [Info]: \n",
      "    Preparing 4001 nodes for simulation.\n",
      "\n",
      "Sep 20 21:42:06 SimulationManager::start_updating_ [Info]: \n",
      "    Number of local nodes: 4001\n",
      "    Simulation time (ms): 1000\n",
      "    Number of OpenMP threads: 1\n",
      "    Number of MPI processes: 1\n",
      "\n",
      "Sep 20 21:42:07 SimulationManager::run [Info]: \n",
      "    Simulation finished.\n"
     ]
    },
    {
     "data": {
      "image/png": "[encoded data removed]",
      "text/plain": [
       "<Figure size 640x480 with 2 Axes>"
      ]
     },
     "metadata": {},
     "output_type": "display_data"
    }
   ],
   "source": [
    "import nest.raster_plot\n",
    "%matplotlib inline\n",
    "from matplotlib import pyplot as plt\n",
    "\n",
    "neuron_params = {'tau_m': 20.,\n",
    "                 'tau_syn_ex': 5.,\n",
    "                 'tau_syn_in': 20.,\n",
    "                 'E_L': -49.,\n",
    "                 'V_th': -50.,\n",
    "                 'V_reset': -60.}\n",
    "num_neurons = 4000\n",
    "num_neurons_ex = 3200\n",
    "num_neurons_in = num_neurons - num_neurons_ex\n",
    "\n",
    "weights_ex = 6 * 0.27\n",
    "weights_in = -2 * 4.5\n",
    "\n",
    "conn_prob = 0.02\n",
    "\n",
    "nest.ResetKernel()\n",
    "\n",
    "neurons = nest.Create('iaf_psc_exp', num_neurons, params=neuron_params)\n",
    "\n",
    "spike_recorder = nest.Create('spike_recorder',\n",
    "                             params={'start': 0.,\n",
    "                                     'stop': 1000.})\n",
    "\n",
    "neurons_ex = neurons[:num_neurons_ex]\n",
    "neurons_in = neurons[num_neurons_ex:]\n",
    "\n",
    "nest.Connect(neurons_ex, neurons,\n",
    "             conn_spec={'rule': 'pairwise_bernoulli', 'p': conn_prob},\n",
    "             syn_spec={'weight': weights_ex, 'delay': 1.5})\n",
    "nest.Connect(neurons_in, neurons,\n",
    "             conn_spec={'rule': 'pairwise_bernoulli', 'p': conn_prob},\n",
    "             syn_spec={'weight': weights_in, 'delay': 1.5})\n",
    "\n",
    "nest.Connect(neurons, spike_recorder)\n",
    "\n",
    "nest.Simulate(1000.)\n",
    "\n",
    "nest.raster_plot.from_device(spike_recorder, hist=True)\n",
    "plt.show()"
   ]
  },
  {
   "cell_type": "markdown",
   "metadata": {
    "slideshow": {
     "slide_type": "slide"
    }
   },
   "source": [
    "## Now it's your turn!\n",
    "\n",
    "* Check out the [official PyNEST tutorials](https://nest-simulator.readthedocs.io/en/latest/tutorials/index.html), in particular\n",
    "  * part 1: Neurons and simple neural networks\n",
    "  * part 2: Populations of neurons\n",
    "* Create a small network of all-to-all connect neurons and couple them with strong synapses and different delays (see [here](https://nest-simulator.readthedocs.io/en/latest/guides/random_numbers.html?highlight=random%20number%20generators#randomize_connection_parameters), in particular Randomize connection parameters), drive the network to spiking with neuron parameter `I_e`. What happens if you use excitatory, what happens if you use inhibitory synapses (if they are sufficiently strong)"
   ]
  },
  {
   "cell_type": "code",
   "execution_count": null,
   "metadata": {},
   "outputs": [],
   "source": []
  }
 ],
 "metadata": {
  "kernelspec": {
   "display_name": "Python 3 (ipykernel)",
   "language": "python",
   "name": "python3"
  },
  "language_info": {
   "codemirror_mode": {
    "name": "ipython",
    "version": 3
   },
   "file_extension": ".py",
   "mimetype": "text/x-python",
   "name": "python",
   "nbconvert_exporter": "python",
   "pygments_lexer": "ipython3",
   "version": "3.9.13"
  },
  "livereveal": {
   "scroll": true
  }
 },
 "nbformat": 4,
 "nbformat_minor": 4
}
